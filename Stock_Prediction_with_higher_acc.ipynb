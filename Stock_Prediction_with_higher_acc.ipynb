{
  "nbformat": 4,
  "nbformat_minor": 0,
  "metadata": {
    "colab": {
      "provenance": [],
      "authorship_tag": "ABX9TyOjoYpHDBxOyD6ok/HK/THM",
      "include_colab_link": true
    },
    "kernelspec": {
      "name": "python3",
      "display_name": "Python 3"
    },
    "language_info": {
      "name": "python"
    }
  },
  "cells": [
    {
      "cell_type": "markdown",
      "metadata": {
        "id": "view-in-github",
        "colab_type": "text"
      },
      "source": [
        "<a href=\"https://colab.research.google.com/github/draxssup/Stonks/blob/main/Stock_Prediction_with_higher_acc.ipynb\" target=\"_parent\"><img src=\"https://colab.research.google.com/assets/colab-badge.svg\" alt=\"Open In Colab\"/></a>"
      ]
    },
    {
      "cell_type": "code",
      "execution_count": 54,
      "metadata": {
        "colab": {
          "base_uri": "https://localhost:8080/"
        },
        "id": "bET5aLKwiPec",
        "outputId": "8d70f28e-6406-411e-d4ea-3a93b2b38e80"
      },
      "outputs": [
        {
          "name": "stdout",
          "output_type": "stream",
          "text": [
            "Enter the stock ticker symbol (e.g., AAPL): DOOO\n",
            "Enter the start date (YYYY-MM-DD): 2020-01-01\n",
            "Enter the end date (YYYY-MM-DD): 2020-09-10\n"
          ]
        },
        {
          "output_type": "stream",
          "name": "stderr",
          "text": [
            "\r[*********************100%***********************]  1 of 1 completed"
          ]
        },
        {
          "output_type": "stream",
          "name": "stdout",
          "text": [
            "Fetching data for DOOO from 2020-01-01 to 2020-09-10...\n"
          ]
        },
        {
          "output_type": "stream",
          "name": "stderr",
          "text": [
            "\n"
          ]
        }
      ],
      "source": [
        "import yfinance as yf\n",
        "import pandas as pd\n",
        "from sklearn.preprocessing import MinMaxScaler\n",
        "from sklearn.model_selection import train_test_split\n",
        "from sklearn.ensemble import RandomForestClassifier\n",
        "from sklearn.metrics import classification_report, confusion_matrix, accuracy_score\n",
        "from sklearn.utils.class_weight import compute_class_weight\n",
        "from imblearn.over_sampling import SMOTE\n",
        "import seaborn as sns\n",
        "import matplotlib.pyplot as plt\n",
        "\n",
        "# Fetch stock data\n",
        "def fetch_stock_data(ticker, start_date, end_date):\n",
        "    print(f\"Fetching data for {ticker} from {start_date} to {end_date}...\")\n",
        "    data = yf.download(ticker, start=start_date, end=end_date)\n",
        "    return data\n",
        "\n",
        "# Example: Fetch Apple stock data\n",
        "ticker = input(\"Enter the stock ticker symbol (e.g., AAPL): \")\n",
        "start_date = input(\"Enter the start date (YYYY-MM-DD): \")\n",
        "end_date = input(\"Enter the end date (YYYY-MM-DD): \")\n",
        "data = fetch_stock_data(ticker, start_date, end_date)\n"
      ]
    },
    {
      "cell_type": "code",
      "source": [
        "def clean_and_engineer_data(data):\n",
        "    data.fillna(method='ffill', inplace=True)\n",
        "    scaler = MinMaxScaler()\n",
        "    data['Close_scaled'] = scaler.fit_transform(data[['Close']])\n",
        "    data['Target'] = (data['Close'].shift(-1) > data['Close']).astype(int)\n",
        "    data['5_day_MA'] = data['Close'].rolling(window=5).mean()\n",
        "    data['10_day_MA'] = data['Close'].rolling(window=10).mean()\n",
        "    data['5_day_EMA'] = data['Close'].ewm(span=5, adjust=False).mean()\n",
        "    data['10_day_EMA'] = data['Close'].ewm(span=10, adjust=False).mean()\n",
        "\n",
        "    def calculate_rsi(data, window=14):\n",
        "        delta = data['Close'].diff()\n",
        "        gain = (delta.where(delta > 0, 0)).rolling(window=window).mean()\n",
        "        loss = (-delta.where(delta < 0, 0)).rolling(window=window).mean()\n",
        "        RS = gain / loss\n",
        "        RSI = 100 - (100 / (1 + RS))\n",
        "        return RSI\n",
        "\n",
        "    data['RSI'] = calculate_rsi(data)\n",
        "    data['20_day_MA'] = data['Close'].rolling(window=20).mean()\n",
        "    data['20_day_SD'] = data['Close'].rolling(window=20).std()\n",
        "    data['Upper_BB'] = data['20_day_MA'] + (data['20_day_SD'] * 2)\n",
        "    data['Lower_BB'] = data['20_day_MA'] - (data['20_day_SD'] * 2)\n",
        "    data['OBV'] = (data['Volume'].where(data['Close'] > data['Close'].shift(1), -data['Volume'])).cumsum()\n",
        "    data['Volatility'] = data['Close'].rolling(window=10).std()\n",
        "    data.dropna(inplace=True)\n",
        "    return data\n",
        "\n",
        "data = clean_and_engineer_data(data)\n"
      ],
      "metadata": {
        "colab": {
          "base_uri": "https://localhost:8080/"
        },
        "id": "GgvJiHg4nJ9u",
        "outputId": "91924930-ab49-4ca3-9274-4712fddce304"
      },
      "execution_count": 55,
      "outputs": [
        {
          "output_type": "stream",
          "name": "stderr",
          "text": [
            "<ipython-input-55-b0a993eb380f>:2: FutureWarning: DataFrame.fillna with 'method' is deprecated and will raise in a future version. Use obj.ffill() or obj.bfill() instead.\n",
            "  data.fillna(method='ffill', inplace=True)\n"
          ]
        }
      ]
    },
    {
      "cell_type": "code",
      "source": [
        "def split_and_balance_data(data):\n",
        "    X = data[['Close_scaled', '5_day_MA', '10_day_MA', '5_day_EMA', '10_day_EMA', 'RSI', 'Volatility', 'OBV']]\n",
        "    y = data['Target']\n",
        "\n",
        "    # Split the data\n",
        "    X_train, X_test, y_train, y_test = train_test_split(X, y, test_size=0.2, random_state=42)\n",
        "\n",
        "    # Balance the dataset\n",
        "    smote = SMOTE(random_state=42)\n",
        "    X_train_balanced, y_train_balanced = smote.fit_resample(X_train, y_train)\n",
        "\n",
        "    return X_train_balanced, X_test, y_train_balanced, y_test\n",
        "\n",
        "X_train_balanced, X_test, y_train_balanced, y_test = split_and_balance_data(data)\n"
      ],
      "metadata": {
        "id": "vWijNRVyoEFx"
      },
      "execution_count": 56,
      "outputs": []
    },
    {
      "cell_type": "code",
      "source": [
        "def train_and_evaluate_model(X_train, y_train, X_test, y_test):\n",
        "    model = RandomForestClassifier(random_state=42)\n",
        "    model.fit(X_train, y_train)\n",
        "\n",
        "    y_pred = model.predict(X_test)\n",
        "\n",
        "    print(\"Model Performance:\")\n",
        "    print(classification_report(y_test, y_pred))\n",
        "    print(f\"Accuracy: {accuracy_score(y_test, y_pred):.2f}\")\n",
        "\n",
        "    # Plot confusion matrix\n",
        "    matrix = confusion_matrix(y_test, y_pred)\n",
        "    sns.heatmap(matrix, annot=True, fmt=\"d\", cmap=\"Blues\", xticklabels=[\"Down\", \"Up\"], yticklabels=[\"Down\", \"Up\"])\n",
        "    plt.xlabel(\"Predicted\")\n",
        "    plt.ylabel(\"Actual\")\n",
        "    plt.title(\"Confusion Matrix\")\n",
        "    plt.show()\n",
        "\n",
        "train_and_evaluate_model(X_train_balanced, y_train_balanced, X_test, y_test)\n"
      ],
      "metadata": {
        "colab": {
          "base_uri": "https://localhost:8080/",
          "height": 685
        },
        "id": "YMwH0fCfoJgz",
        "outputId": "b3bd27c8-a63f-446e-a817-b78203342f81"
      },
      "execution_count": 57,
      "outputs": [
        {
          "output_type": "stream",
          "name": "stdout",
          "text": [
            "Model Performance:\n",
            "              precision    recall  f1-score   support\n",
            "\n",
            "           0       0.72      0.76      0.74        17\n",
            "           1       0.69      0.64      0.67        14\n",
            "\n",
            "    accuracy                           0.71        31\n",
            "   macro avg       0.71      0.70      0.70        31\n",
            "weighted avg       0.71      0.71      0.71        31\n",
            "\n",
            "Accuracy: 0.71\n"
          ]
        },
        {
          "output_type": "display_data",
          "data": {
            "text/plain": [
              "<Figure size 640x480 with 2 Axes>"
            ],
            "image/png": "[encoded data removed]"
          },
          "metadata": {}
        }
      ]
    }
  ]
}